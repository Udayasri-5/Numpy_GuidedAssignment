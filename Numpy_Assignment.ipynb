{
  "nbformat": 4,
  "nbformat_minor": 0,
  "metadata": {
    "colab": {
      "name": "Numpy_Assignment.ipynb",
      "provenance": [],
      "collapsed_sections": []
    },
    "kernelspec": {
      "name": "python3",
      "display_name": "Python 3"
    },
    "language_info": {
      "name": "python"
    }
  },
  "cells": [
    {
      "cell_type": "markdown",
      "source": [
        "Write a code that takes in a number x from the user and creates a 1x20 array with random numbers ranging from 0 to x"
      ],
      "metadata": {
        "id": "tFRp2aKw0HBU"
      }
    },
    {
      "cell_type": "code",
      "execution_count": null,
      "metadata": {
        "id": "OI_JauwXz8oU"
      },
      "outputs": [],
      "source": [
        "import numpy as np"
      ]
    },
    {
      "cell_type": "code",
      "source": [
        "x = int(input())\n",
        "array = np.random.randint(0,x,20)\n",
        "print(array)"
      ],
      "metadata": {
        "colab": {
          "base_uri": "https://localhost:8080/"
        },
        "id": "tVb-BVmd0KcF",
        "outputId": "c2dd29ba-67a7-450c-d131-774a792f8603"
      },
      "execution_count": null,
      "outputs": [
        {
          "output_type": "stream",
          "name": "stdout",
          "text": [
            "20\n",
            "[ 4 14 16 13 14 19  9 14  7 16 19  8 10 13  0 16  0  0 11  4]\n"
          ]
        }
      ]
    },
    {
      "cell_type": "markdown",
      "source": [
        "Write a code that creates a 4x5 array inwhich numbers ranging between 300 and 500 such that the difference between elements is 10"
      ],
      "metadata": {
        "id": "MwmSOaCs01iU"
      }
    },
    {
      "cell_type": "code",
      "source": [
        "array = np.arange(300,500,10)\n",
        "print(\"array having  300 and 500 \" ,array)\n",
        "array = array.reshape(4,5)\n",
        "print(array)"
      ],
      "metadata": {
        "colab": {
          "base_uri": "https://localhost:8080/"
        },
        "id": "rbvvSCZ200yc",
        "outputId": "145d846d-a99d-4f6f-e577-dde8bea281fe"
      },
      "execution_count": null,
      "outputs": [
        {
          "output_type": "stream",
          "name": "stdout",
          "text": [
            "array having  300 and 500  [300 310 320 330 340 350 360 370 380 390 400 410 420 430 440 450 460 470\n",
            " 480 490]\n",
            "[[300 310 320 330 340]\n",
            " [350 360 370 380 390]\n",
            " [400 410 420 430 440]\n",
            " [450 460 470 480 490]]\n"
          ]
        }
      ]
    },
    {
      "cell_type": "code",
      "source": [
        ""
      ],
      "metadata": {
        "id": "uGCnNazxFISG"
      },
      "execution_count": null,
      "outputs": []
    },
    {
      "cell_type": "markdown",
      "source": [
        "Write a code that creates a 20x20 numpy array of random values that ranges from -1000 to 1000 and obtain the maximum, minimum, and mean values"
      ],
      "metadata": {
        "id": "ls537xle1fc5"
      }
    },
    {
      "cell_type": "code",
      "source": [
        "\n",
        "\n",
        "array = np.random.randint(-1000,1000,[20,20])\n",
        "print(array)"
      ],
      "metadata": {
        "colab": {
          "base_uri": "https://localhost:8080/"
        },
        "id": "AZT6rV6M1e0e",
        "outputId": "5f299d3f-e64f-4127-a14e-63fab8763eaa"
      },
      "execution_count": null,
      "outputs": [
        {
          "output_type": "stream",
          "name": "stdout",
          "text": [
            "[[-415  218 -119  -67 -887  423 -540   28  877 -700  526 -549 -484 -439\n",
            "  -589  503 -428  511 -610  230]\n",
            " [ 644 -559  354 -977 -307  890  843  540  329  203 -848 -328 -407 -989\n",
            "    46  147  871 -753  672  682]\n",
            " [ 344    1  766  899 -944  299    2 -783 -714  286  170 -866    7  -41\n",
            "   306 -748  -88  990 -512 -772]\n",
            " [ -94  709 -126 -137 -520  207  755  341 -438  430 -927 -995 -812  677\n",
            "  -961 -826  849  482  884  526]\n",
            " [-128  -63 -244  664  234 -248 -828  447 -858 -822  237  514 -129   42\n",
            "  -279 -437  276  215 -102  -33]\n",
            " [  76  188  -16  764  469 -111  -22 -836   38 -662 -911  183  756  108\n",
            "   279   10 -644 -893 -392  660]\n",
            " [-580 -893  803 -873  946  858 -743   95 -392  679  766  959 -371  104\n",
            "   841 -707  807  -61  365 -568]\n",
            " [-795 -985  -30  -94 -212 -126  249 -688  651   25 -693  425  -71  625\n",
            "   856 -224  778 -973 -207  999]\n",
            " [-354  286 -909 -994  607  799  225  974  118 -115  547 -559 -115 -855\n",
            "  -255 -872 -160 -491 -444 -992]\n",
            " [ 370 -803  916 -800  -75 -742 -534  873 -414 -491  -91  543  185 -635\n",
            "  -326 -796  784 -161 -198  239]\n",
            " [-664  631  778  486  584 -228 -533   62  287  805 -602 -778  -95  894\n",
            "  -687 -387 -598  -63  173 -376]\n",
            " [ -11 -173  430  526  -47  623  926  493  705  404  659  503 -460 -771\n",
            "   912 -842 -618 -623 -510  108]\n",
            " [ 826  533  416   53 -777  690  981  504   -9  -52  124 -240  338 -769\n",
            "  -991  559 -144 -941 -405 -611]\n",
            " [-269  790 -981  -96  878  806  191 -513 -865 -907  462 -109  251 -565\n",
            "   443  304 -144  512 -225 -869]\n",
            " [ 339 -958 -370   -1  816  963  556  551 -175  399  778 -359   73 -739\n",
            "   534  632  338  447  694  867]\n",
            " [ 319 -520  666  180 -140  729 -458  -63 -810  452  430 -476  -44   -5\n",
            "  -487  808  627  645 -712  947]\n",
            " [ 105  583  227 -856  832  328 -864   45  679  856 -376 -894 -851  718\n",
            "  -222  799  -89  210 -698 -777]\n",
            " [-244   59  681  278  576  814 -109 -649  280  155  711   44 -291  369\n",
            "  -932 -697  803  -99  174 -897]\n",
            " [ 286 -492 -409  274  362  -88 -264 -926  111  221 -905 -320 -157 -641\n",
            "   471  591  315 -191 -520  148]\n",
            " [ -93  778 -784  924 -218  191 -930  488   10  116 -252 -845   17  405\n",
            "   480 -808 -718  -96  404 -748]]\n"
          ]
        }
      ]
    },
    {
      "cell_type": "markdown",
      "source": [
        "In the following matrix, replace the last row with -1 Multiply the 2x2 matrix in the upper right corner by 2 X = [2 30 20 -2 -4] [3 4 40 -3 -2] [-3 4 -6 90 10] [25 45 34 22 12] [13 24 22 32 37]"
      ],
      "metadata": {
        "id": "_OpKBhvN1egL"
      }
    },
    {
      "cell_type": "code",
      "source": [
        "arr = np.array([[2,30,20,-2,-4],[3,4,40,-3,-2],[-3,4,-6,90,10],[25,45,34,22,12],[13,24,22,32,37]])\n",
        "arr[-1: , :] = -1\n",
        "arr[:2,3:] *= 2\n",
        "print(arr)"
      ],
      "metadata": {
        "colab": {
          "base_uri": "https://localhost:8080/"
        },
        "id": "ygDc78jl3X5J",
        "outputId": "dd3397e6-205f-4042-cf35-94bac37ec11c"
      },
      "execution_count": null,
      "outputs": [
        {
          "output_type": "stream",
          "name": "stdout",
          "text": [
            "[[ 2 30 20 -4 -8]\n",
            " [ 3  4 40 -6 -4]\n",
            " [-3  4 -6 90 10]\n",
            " [25 45 34 22 12]\n",
            " [-1 -1 -1 -1 -1]]\n"
          ]
        }
      ]
    },
    {
      "cell_type": "markdown",
      "source": [
        "In the following matrix, replace negative elements by 0 and replace odd elements with 25 X = [2 30 20 -2 -4] [3 4 40 -3 -2] [-3 4 -6 90 10] [25 45 34 22 12] [13 24 22 32 37]\n"
      ],
      "metadata": {
        "id": "ctiDHQcF3Ta_"
      }
    },
    {
      "cell_type": "code",
      "source": [
        "arr = np.array([[2,30,20,-2,-4],[3,4,40,-3,-2],[-3,4,-6,90,10],[25,45,34,22,12],[13,24,22,32,37]])\n",
        "\n",
        "arr[np.mod(arr,2) != 0] = -1\n",
        "\n",
        "\n",
        "arr[arr < 0] = -1\n",
        "print(arr)\n"
      ],
      "metadata": {
        "colab": {
          "base_uri": "https://localhost:8080/"
        },
        "id": "Txhnx8Qm-al7",
        "outputId": "ac0adb61-9eb7-45bf-cd2a-1ae5edf7a0ef"
      },
      "execution_count": null,
      "outputs": [
        {
          "output_type": "stream",
          "name": "stdout",
          "text": [
            "[[ 2 30 20 -1 -1]\n",
            " [-1  4 40 -1 -1]\n",
            " [-1  4 -1 90 10]\n",
            " [-1 -1 34 22 12]\n",
            " [-1 24 22 32 -1]]\n"
          ]
        }
      ]
    },
    {
      "cell_type": "code",
      "source": [
        "print(2%5)"
      ],
      "metadata": {
        "id": "z6JcgOWDGvJG",
        "outputId": "60f0b199-f0de-4f16-fed9-2e74221506ae",
        "colab": {
          "base_uri": "https://localhost:8080/"
        }
      },
      "execution_count": null,
      "outputs": [
        {
          "output_type": "stream",
          "name": "stdout",
          "text": [
            "2\n"
          ]
        }
      ]
    }
  ]
}